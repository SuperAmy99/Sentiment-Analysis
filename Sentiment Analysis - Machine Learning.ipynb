{
 "cells": [
  {
   "cell_type": "markdown",
   "id": "c67ee8ff",
   "metadata": {},
   "source": [
    "# Twitter Sentiment Analysis"
   ]
  },
  {
   "cell_type": "code",
   "execution_count": 39,
   "id": "b8368990",
   "metadata": {},
   "outputs": [],
   "source": [
    "# Importing Libraries\n",
    "import pandas as pd\n",
    "import numpy as np\n",
    "import re\n",
    "import nltk\n",
    "from nltk.tokenize import word_tokenize\n",
    "from nltk.stem import PorterStemmer, WordNetLemmatizer\n",
    "from nltk.corpus import stopwords\n",
    "from sklearn.feature_extraction.text import TfidfVectorizer\n",
    "from sklearn.model_selection import train_test_split, GridSearchCV\n",
    "from sklearn.linear_model import LogisticRegression\n",
    "from sklearn.metrics import accuracy_score, confusion_matrix, classification_report\n",
    "from sklearn.naive_bayes import MultinomialNB\n",
    "from sklearn.svm import SVC\n",
    "import requests\n",
    "import warnings\n",
    "warnings.filterwarnings('ignore')"
   ]
  },
  {
   "cell_type": "markdown",
   "id": "86afb945",
   "metadata": {},
   "source": [
    "## Data Collection"
   ]
  },
  {
   "cell_type": "code",
   "execution_count": 3,
   "id": "4e6d408d",
   "metadata": {},
   "outputs": [],
   "source": [
    "# loading the data from csv file to pandas dataframe\n",
    "df1 = pd.read_csv('data.csv', encoding ='latin-1', header = None)\n",
    "df1.columns = ['target','id','date','flag','user','text']\n"
   ]
  },
  {
   "cell_type": "markdown",
   "id": "878b7afb",
   "metadata": {},
   "source": [
    "## Data Preprocessing"
   ]
  },
  {
   "cell_type": "code",
   "execution_count": 4,
   "id": "9df93280",
   "metadata": {},
   "outputs": [
    {
     "data": {
      "text/plain": [
       "(1600000, 6)"
      ]
     },
     "execution_count": 4,
     "metadata": {},
     "output_type": "execute_result"
    }
   ],
   "source": [
    "# check the dataset shape\n",
    "df1.shape"
   ]
  },
  {
   "cell_type": "code",
   "execution_count": 5,
   "id": "e1de1284",
   "metadata": {},
   "outputs": [
    {
     "data": {
      "text/html": [
       "<div>\n",
       "<style scoped>\n",
       "    .dataframe tbody tr th:only-of-type {\n",
       "        vertical-align: middle;\n",
       "    }\n",
       "\n",
       "    .dataframe tbody tr th {\n",
       "        vertical-align: top;\n",
       "    }\n",
       "\n",
       "    .dataframe thead th {\n",
       "        text-align: right;\n",
       "    }\n",
       "</style>\n",
       "<table border=\"1\" class=\"dataframe\">\n",
       "  <thead>\n",
       "    <tr style=\"text-align: right;\">\n",
       "      <th></th>\n",
       "      <th>target</th>\n",
       "      <th>id</th>\n",
       "      <th>date</th>\n",
       "      <th>flag</th>\n",
       "      <th>user</th>\n",
       "      <th>text</th>\n",
       "    </tr>\n",
       "  </thead>\n",
       "  <tbody>\n",
       "    <tr>\n",
       "      <th>0</th>\n",
       "      <td>0</td>\n",
       "      <td>1467810369</td>\n",
       "      <td>Mon Apr 06 22:19:45 PDT 2009</td>\n",
       "      <td>NO_QUERY</td>\n",
       "      <td>_TheSpecialOne_</td>\n",
       "      <td>@switchfoot http://twitpic.com/2y1zl - Awww, t...</td>\n",
       "    </tr>\n",
       "    <tr>\n",
       "      <th>1</th>\n",
       "      <td>0</td>\n",
       "      <td>1467810672</td>\n",
       "      <td>Mon Apr 06 22:19:49 PDT 2009</td>\n",
       "      <td>NO_QUERY</td>\n",
       "      <td>scotthamilton</td>\n",
       "      <td>is upset that he can't update his Facebook by ...</td>\n",
       "    </tr>\n",
       "    <tr>\n",
       "      <th>2</th>\n",
       "      <td>0</td>\n",
       "      <td>1467810917</td>\n",
       "      <td>Mon Apr 06 22:19:53 PDT 2009</td>\n",
       "      <td>NO_QUERY</td>\n",
       "      <td>mattycus</td>\n",
       "      <td>@Kenichan I dived many times for the ball. Man...</td>\n",
       "    </tr>\n",
       "    <tr>\n",
       "      <th>3</th>\n",
       "      <td>0</td>\n",
       "      <td>1467811184</td>\n",
       "      <td>Mon Apr 06 22:19:57 PDT 2009</td>\n",
       "      <td>NO_QUERY</td>\n",
       "      <td>ElleCTF</td>\n",
       "      <td>my whole body feels itchy and like its on fire</td>\n",
       "    </tr>\n",
       "    <tr>\n",
       "      <th>4</th>\n",
       "      <td>0</td>\n",
       "      <td>1467811193</td>\n",
       "      <td>Mon Apr 06 22:19:57 PDT 2009</td>\n",
       "      <td>NO_QUERY</td>\n",
       "      <td>Karoli</td>\n",
       "      <td>@nationwideclass no, it's not behaving at all....</td>\n",
       "    </tr>\n",
       "  </tbody>\n",
       "</table>\n",
       "</div>"
      ],
      "text/plain": [
       "   target          id                          date      flag  \\\n",
       "0       0  1467810369  Mon Apr 06 22:19:45 PDT 2009  NO_QUERY   \n",
       "1       0  1467810672  Mon Apr 06 22:19:49 PDT 2009  NO_QUERY   \n",
       "2       0  1467810917  Mon Apr 06 22:19:53 PDT 2009  NO_QUERY   \n",
       "3       0  1467811184  Mon Apr 06 22:19:57 PDT 2009  NO_QUERY   \n",
       "4       0  1467811193  Mon Apr 06 22:19:57 PDT 2009  NO_QUERY   \n",
       "\n",
       "              user                                               text  \n",
       "0  _TheSpecialOne_  @switchfoot http://twitpic.com/2y1zl - Awww, t...  \n",
       "1    scotthamilton  is upset that he can't update his Facebook by ...  \n",
       "2         mattycus  @Kenichan I dived many times for the ball. Man...  \n",
       "3          ElleCTF    my whole body feels itchy and like its on fire   \n",
       "4           Karoli  @nationwideclass no, it's not behaving at all....  "
      ]
     },
     "execution_count": 5,
     "metadata": {},
     "output_type": "execute_result"
    }
   ],
   "source": [
    "# print the first 5 rows of the dataframe\n",
    "df1.head()"
   ]
  },
  {
   "cell_type": "code",
   "execution_count": 6,
   "id": "066a2237",
   "metadata": {},
   "outputs": [
    {
     "data": {
      "text/plain": [
       "target    0\n",
       "id        0\n",
       "date      0\n",
       "flag      0\n",
       "user      0\n",
       "text      0\n",
       "dtype: int64"
      ]
     },
     "execution_count": 6,
     "metadata": {},
     "output_type": "execute_result"
    }
   ],
   "source": [
    "# checking the number of missing values in the dataset\n",
    "df1.isna().sum()\n"
   ]
  },
  {
   "cell_type": "code",
   "execution_count": 7,
   "id": "f68c8269",
   "metadata": {},
   "outputs": [
    {
     "data": {
      "text/plain": [
       "0    800000\n",
       "4    800000\n",
       "Name: target, dtype: int64"
      ]
     },
     "execution_count": 7,
     "metadata": {},
     "output_type": "execute_result"
    }
   ],
   "source": [
    "# checking the distribution of target column\n",
    "df1['target'].value_counts()\n",
    "# the distribution is even, no need to upscaling or downscaling"
   ]
  },
  {
   "cell_type": "code",
   "execution_count": 8,
   "id": "2d1066a9",
   "metadata": {},
   "outputs": [],
   "source": [
    "# convert the target '4' to '1'\n",
    "df1.replace({'target':{4:1}}, inplace = True)"
   ]
  },
  {
   "cell_type": "code",
   "execution_count": 9,
   "id": "961f00e4",
   "metadata": {},
   "outputs": [
    {
     "data": {
      "text/plain": [
       "0    800000\n",
       "1    800000\n",
       "Name: target, dtype: int64"
      ]
     },
     "execution_count": 9,
     "metadata": {},
     "output_type": "execute_result"
    }
   ],
   "source": [
    "# check the distribution of target column with updated value\n",
    "df1['target'].value_counts()"
   ]
  },
  {
   "cell_type": "code",
   "execution_count": 10,
   "id": "4c789efe",
   "metadata": {},
   "outputs": [],
   "source": [
    "# 0 -- negative tweet\n",
    "# 1 -- positive tweet"
   ]
  },
  {
   "cell_type": "markdown",
   "id": "c26544a3",
   "metadata": {},
   "source": [
    "### Text Cleaning"
   ]
  },
  {
   "cell_type": "code",
   "execution_count": 11,
   "id": "f386e6e1",
   "metadata": {},
   "outputs": [],
   "source": [
    "def clean_up(s):\n",
    "    # Remove URLs\n",
    "    s = re.sub(r'http\\S+', '', s)\n",
    "    \n",
    "    # Replace numbers and special characters with a whitespace\n",
    "    s = re.sub(r'[^A-Za-z\\s]', ' ', s)\n",
    "    \n",
    "    # Remove extra whitespaces\n",
    "    s = re.sub(r'\\s+', ' ', s).strip()\n",
    "    \n",
    "    # Convert to lowercase\n",
    "    s = s.lower()\n",
    "    return s"
   ]
  },
  {
   "cell_type": "markdown",
   "id": "30678663",
   "metadata": {},
   "source": [
    "### Tokenization"
   ]
  },
  {
   "cell_type": "code",
   "execution_count": 12,
   "id": "5c969b6f",
   "metadata": {},
   "outputs": [],
   "source": [
    "#  filters out any tokens that are not alphanumeric\n",
    "def tokenize(s):\n",
    "    tokens = word_tokenize(s)\n",
    "    return [token for token in tokens if token.isalnum()]"
   ]
  },
  {
   "cell_type": "markdown",
   "id": "20783122",
   "metadata": {},
   "source": [
    "### Stemming and Lemmatization"
   ]
  },
  {
   "cell_type": "code",
   "execution_count": 13,
   "id": "0af0259b",
   "metadata": {},
   "outputs": [],
   "source": [
    "def stem_and_lemmatize(l):\n",
    "    ps = PorterStemmer()\n",
    "    lemmatizer = WordNetLemmatizer()\n",
    "    lemmatized = [lemmatizer.lemmatize(word) for word in l]\n",
    "    return [ps.stem(word) for word in lemmatized]\n"
   ]
  },
  {
   "cell_type": "markdown",
   "id": "e2dfeaad",
   "metadata": {},
   "source": [
    "### Stop Words Removal"
   ]
  },
  {
   "cell_type": "code",
   "execution_count": 14,
   "id": "4839cc53",
   "metadata": {},
   "outputs": [],
   "source": [
    "def remove_stopwords(l):\n",
    "    stop_words = set(stopwords.words('english'))\n",
    "    return [word for word in l if not word in stop_words]\n"
   ]
  },
  {
   "cell_type": "code",
   "execution_count": 15,
   "id": "0bcaaf31",
   "metadata": {},
   "outputs": [
    {
     "name": "stderr",
     "output_type": "stream",
     "text": [
      "[nltk_data] Downloading package punkt to /Users/amy/nltk_data...\n",
      "[nltk_data]   Package punkt is already up-to-date!\n",
      "[nltk_data] Downloading package stopwords to /Users/amy/nltk_data...\n",
      "[nltk_data]   Package stopwords is already up-to-date!\n",
      "[nltk_data] Downloading package wordnet to /Users/amy/nltk_data...\n",
      "[nltk_data]   Package wordnet is already up-to-date!\n"
     ]
    },
    {
     "data": {
      "text/plain": [
       "True"
      ]
     },
     "execution_count": 15,
     "metadata": {},
     "output_type": "execute_result"
    }
   ],
   "source": [
    "# Download necessary NLTK data\n",
    "nltk.download('punkt')\n",
    "nltk.download('stopwords')\n",
    "nltk.download('wordnet')"
   ]
  },
  {
   "cell_type": "code",
   "execution_count": 16,
   "id": "af028e74",
   "metadata": {},
   "outputs": [],
   "source": [
    "# Build preprocessing pipeline\n",
    "def preprocess_text(text):\n",
    "    cleaned_text = clean_up(text)\n",
    "    tokenized_text = tokenize(cleaned_text)\n",
    "    stemmed_and_lemmatized_text = stem_and_lemmatize(tokenized_text)\n",
    "    text_without_stopwords = remove_stopwords(stemmed_and_lemmatized_text)\n",
    "    return ' '.join(text_without_stopwords)"
   ]
  },
  {
   "cell_type": "code",
   "execution_count": 17,
   "id": "46233fb3",
   "metadata": {},
   "outputs": [],
   "source": [
    "# Apply the preprocessing pipeline\n",
    "df1['processed_content'] = df1['text'].apply(preprocess_text)\n"
   ]
  },
  {
   "cell_type": "code",
   "execution_count": 18,
   "id": "33addeb8",
   "metadata": {},
   "outputs": [
    {
     "data": {
      "text/html": [
       "<div>\n",
       "<style scoped>\n",
       "    .dataframe tbody tr th:only-of-type {\n",
       "        vertical-align: middle;\n",
       "    }\n",
       "\n",
       "    .dataframe tbody tr th {\n",
       "        vertical-align: top;\n",
       "    }\n",
       "\n",
       "    .dataframe thead th {\n",
       "        text-align: right;\n",
       "    }\n",
       "</style>\n",
       "<table border=\"1\" class=\"dataframe\">\n",
       "  <thead>\n",
       "    <tr style=\"text-align: right;\">\n",
       "      <th></th>\n",
       "      <th>target</th>\n",
       "      <th>id</th>\n",
       "      <th>date</th>\n",
       "      <th>flag</th>\n",
       "      <th>user</th>\n",
       "      <th>text</th>\n",
       "      <th>processed_content</th>\n",
       "    </tr>\n",
       "  </thead>\n",
       "  <tbody>\n",
       "    <tr>\n",
       "      <th>0</th>\n",
       "      <td>0</td>\n",
       "      <td>1467810369</td>\n",
       "      <td>Mon Apr 06 22:19:45 PDT 2009</td>\n",
       "      <td>NO_QUERY</td>\n",
       "      <td>_TheSpecialOne_</td>\n",
       "      <td>@switchfoot http://twitpic.com/2y1zl - Awww, t...</td>\n",
       "      <td>switchfoot awww bummer shoulda got david carr ...</td>\n",
       "    </tr>\n",
       "    <tr>\n",
       "      <th>1</th>\n",
       "      <td>0</td>\n",
       "      <td>1467810672</td>\n",
       "      <td>Mon Apr 06 22:19:49 PDT 2009</td>\n",
       "      <td>NO_QUERY</td>\n",
       "      <td>scotthamilton</td>\n",
       "      <td>is upset that he can't update his Facebook by ...</td>\n",
       "      <td>upset updat hi facebook text might cri result ...</td>\n",
       "    </tr>\n",
       "    <tr>\n",
       "      <th>2</th>\n",
       "      <td>0</td>\n",
       "      <td>1467810917</td>\n",
       "      <td>Mon Apr 06 22:19:53 PDT 2009</td>\n",
       "      <td>NO_QUERY</td>\n",
       "      <td>mattycus</td>\n",
       "      <td>@Kenichan I dived many times for the ball. Man...</td>\n",
       "      <td>kenichan dive mani time ball manag save rest g...</td>\n",
       "    </tr>\n",
       "    <tr>\n",
       "      <th>3</th>\n",
       "      <td>0</td>\n",
       "      <td>1467811184</td>\n",
       "      <td>Mon Apr 06 22:19:57 PDT 2009</td>\n",
       "      <td>NO_QUERY</td>\n",
       "      <td>ElleCTF</td>\n",
       "      <td>my whole body feels itchy and like its on fire</td>\n",
       "      <td>whole bodi feel itchi like fire</td>\n",
       "    </tr>\n",
       "    <tr>\n",
       "      <th>4</th>\n",
       "      <td>0</td>\n",
       "      <td>1467811193</td>\n",
       "      <td>Mon Apr 06 22:19:57 PDT 2009</td>\n",
       "      <td>NO_QUERY</td>\n",
       "      <td>Karoli</td>\n",
       "      <td>@nationwideclass no, it's not behaving at all....</td>\n",
       "      <td>nationwideclass behav mad whi becaus see</td>\n",
       "    </tr>\n",
       "  </tbody>\n",
       "</table>\n",
       "</div>"
      ],
      "text/plain": [
       "   target          id                          date      flag  \\\n",
       "0       0  1467810369  Mon Apr 06 22:19:45 PDT 2009  NO_QUERY   \n",
       "1       0  1467810672  Mon Apr 06 22:19:49 PDT 2009  NO_QUERY   \n",
       "2       0  1467810917  Mon Apr 06 22:19:53 PDT 2009  NO_QUERY   \n",
       "3       0  1467811184  Mon Apr 06 22:19:57 PDT 2009  NO_QUERY   \n",
       "4       0  1467811193  Mon Apr 06 22:19:57 PDT 2009  NO_QUERY   \n",
       "\n",
       "              user                                               text  \\\n",
       "0  _TheSpecialOne_  @switchfoot http://twitpic.com/2y1zl - Awww, t...   \n",
       "1    scotthamilton  is upset that he can't update his Facebook by ...   \n",
       "2         mattycus  @Kenichan I dived many times for the ball. Man...   \n",
       "3          ElleCTF    my whole body feels itchy and like its on fire    \n",
       "4           Karoli  @nationwideclass no, it's not behaving at all....   \n",
       "\n",
       "                                   processed_content  \n",
       "0  switchfoot awww bummer shoulda got david carr ...  \n",
       "1  upset updat hi facebook text might cri result ...  \n",
       "2  kenichan dive mani time ball manag save rest g...  \n",
       "3                    whole bodi feel itchi like fire  \n",
       "4           nationwideclass behav mad whi becaus see  "
      ]
     },
     "execution_count": 18,
     "metadata": {},
     "output_type": "execute_result"
    }
   ],
   "source": [
    "# check out the new df\n",
    "df1.head()"
   ]
  },
  {
   "cell_type": "code",
   "execution_count": 19,
   "id": "650e973e",
   "metadata": {},
   "outputs": [],
   "source": [
    "# save the results into a new csv file\n",
    "df1.to_csv('cleaned_df.csv', index=False)"
   ]
  },
  {
   "cell_type": "markdown",
   "id": "c3c84227",
   "metadata": {},
   "source": [
    "## Modeling"
   ]
  },
  {
   "cell_type": "code",
   "execution_count": 20,
   "id": "a5ff1582",
   "metadata": {},
   "outputs": [
    {
     "data": {
      "text/plain": [
       "(160000, 7)"
      ]
     },
     "execution_count": 20,
     "metadata": {},
     "output_type": "execute_result"
    }
   ],
   "source": [
    "# Select a 10% sample of the dataset for faster computation\n",
    "df_sample = df1.sample(frac=0.1, random_state=42)\n",
    "df_sample.shape"
   ]
  },
  {
   "cell_type": "code",
   "execution_count": 22,
   "id": "d2ba8811",
   "metadata": {},
   "outputs": [],
   "source": [
    "# Spliting X and y\n",
    "X = df_sample['processed_content']\n",
    "y = df_sample['target']"
   ]
  },
  {
   "cell_type": "code",
   "execution_count": 23,
   "id": "56e89b17",
   "metadata": {},
   "outputs": [],
   "source": [
    "# Splitting the data to training data and test data\n",
    "X_train,X_test, y_train,y_test = train_test_split(X,y, test_size = 0.2, stratify = y, random_state = 42)"
   ]
  },
  {
   "cell_type": "code",
   "execution_count": 24,
   "id": "36eb3513",
   "metadata": {},
   "outputs": [],
   "source": [
    "# converting the texual data to numerical data\n",
    "vectorizer = TfidfVectorizer()\n",
    "\n",
    "X_train = vectorizer.fit_transform(X_train)\n",
    "X_test = vectorizer.transform(X_test) "
   ]
  },
  {
   "cell_type": "markdown",
   "id": "5de2ee97",
   "metadata": {},
   "source": [
    "## Model Evaluation"
   ]
  },
  {
   "cell_type": "code",
   "execution_count": 25,
   "id": "10af937e",
   "metadata": {},
   "outputs": [],
   "source": [
    "# Define and Train Models\n",
    "def train_evaluate_model(model, X_train, y_train, X_test, y_test):\n",
    "    model.fit(X_train, y_train)\n",
    "    train_pred = model.predict(X_train)\n",
    "    test_pred = model.predict(X_test)\n",
    "    return accuracy_score(y_train, train_pred), accuracy_score(y_test, test_pred)"
   ]
  },
  {
   "cell_type": "code",
   "execution_count": 29,
   "id": "28a81fda",
   "metadata": {},
   "outputs": [],
   "source": [
    "models = {\n",
    "    \"Logistic Regression\": LogisticRegression(),\n",
    "    \"Naive Bayes\": MultinomialNB(),\n",
    "    \"SVM\": SVC()\n",
    "}"
   ]
  },
  {
   "cell_type": "code",
   "execution_count": 30,
   "id": "17377922",
   "metadata": {},
   "outputs": [],
   "source": [
    "results = {}\n",
    "for model_name, model in models.items():\n",
    "    train_acc, test_acc = train_evaluate_model(model, X_train, y_train, X_test, y_test)\n",
    "    results[model_name] = {\"Train Accuracy\": train_acc, \"Test Accuracy\": test_acc}\n"
   ]
  },
  {
   "cell_type": "code",
   "execution_count": 31,
   "id": "a0b69fb1",
   "metadata": {},
   "outputs": [
    {
     "data": {
      "text/plain": [
       "{'Logistic Regression': {'Train Accuracy': 0.821578125,\n",
       "  'Test Accuracy': 0.767375},\n",
       " 'Naive Bayes': {'Train Accuracy': 0.8511171875, 'Test Accuracy': 0.74784375},\n",
       " 'SVM': {'Train Accuracy': 0.9475546875, 'Test Accuracy': 0.7728125}}"
      ]
     },
     "execution_count": 31,
     "metadata": {},
     "output_type": "execute_result"
    }
   ],
   "source": [
    "results"
   ]
  },
  {
   "cell_type": "markdown",
   "id": "888b24fa",
   "metadata": {},
   "source": [
    "## Choose the model for further tunning"
   ]
  },
  {
   "cell_type": "markdown",
   "id": "a38a216d",
   "metadata": {},
   "source": [
    "Overall Analysis:\n",
    "\n",
    "All three models show signs of overfitting, as evidenced by higher accuracies on the training data compared to the test data. \n",
    "\n",
    "The SVM, despite having the highest training accuracy, does not significantly outperform the other models on the test set. This suggests that while it learned the training data well, it may not generalize as effectively to new, unseen data.\n",
    "\n",
    "Logistic Regression and Naive Bayes have more comparable performance, with Logistic Regression slightly outperforming Naive Bayes on the test set.\n",
    "\n",
    "Conclusion:\n",
    "\n",
    "Balanced Performance: Logistic Regression demonstrates a good balance between training and test accuracies (82.16% and 76.74% respectively). While it doesn't have the highest training accuracy, its test accuracy is competitive, indicating a reasonable generalization to unseen data.\n",
    "\n",
    "Efficiency in Training: Unlike SVM, which exhibits prolonged training times making it less practical for large datasets, Logistic Regression offers a more time-efficient alternative. This efficiency is crucial, especially when working with large datasets or in scenarios where model retraining is frequent."
   ]
  },
  {
   "cell_type": "markdown",
   "id": "013123ec",
   "metadata": {},
   "source": [
    "## Hyperparameter Tuning for Best Model\n"
   ]
  },
  {
   "cell_type": "code",
   "execution_count": 32,
   "id": "f1e27112",
   "metadata": {},
   "outputs": [
    {
     "data": {
      "text/html": [
       "<style>#sk-container-id-1 {color: black;}#sk-container-id-1 pre{padding: 0;}#sk-container-id-1 div.sk-toggleable {background-color: white;}#sk-container-id-1 label.sk-toggleable__label {cursor: pointer;display: block;width: 100%;margin-bottom: 0;padding: 0.3em;box-sizing: border-box;text-align: center;}#sk-container-id-1 label.sk-toggleable__label-arrow:before {content: \"▸\";float: left;margin-right: 0.25em;color: #696969;}#sk-container-id-1 label.sk-toggleable__label-arrow:hover:before {color: black;}#sk-container-id-1 div.sk-estimator:hover label.sk-toggleable__label-arrow:before {color: black;}#sk-container-id-1 div.sk-toggleable__content {max-height: 0;max-width: 0;overflow: hidden;text-align: left;background-color: #f0f8ff;}#sk-container-id-1 div.sk-toggleable__content pre {margin: 0.2em;color: black;border-radius: 0.25em;background-color: #f0f8ff;}#sk-container-id-1 input.sk-toggleable__control:checked~div.sk-toggleable__content {max-height: 200px;max-width: 100%;overflow: auto;}#sk-container-id-1 input.sk-toggleable__control:checked~label.sk-toggleable__label-arrow:before {content: \"▾\";}#sk-container-id-1 div.sk-estimator input.sk-toggleable__control:checked~label.sk-toggleable__label {background-color: #d4ebff;}#sk-container-id-1 div.sk-label input.sk-toggleable__control:checked~label.sk-toggleable__label {background-color: #d4ebff;}#sk-container-id-1 input.sk-hidden--visually {border: 0;clip: rect(1px 1px 1px 1px);clip: rect(1px, 1px, 1px, 1px);height: 1px;margin: -1px;overflow: hidden;padding: 0;position: absolute;width: 1px;}#sk-container-id-1 div.sk-estimator {font-family: monospace;background-color: #f0f8ff;border: 1px dotted black;border-radius: 0.25em;box-sizing: border-box;margin-bottom: 0.5em;}#sk-container-id-1 div.sk-estimator:hover {background-color: #d4ebff;}#sk-container-id-1 div.sk-parallel-item::after {content: \"\";width: 100%;border-bottom: 1px solid gray;flex-grow: 1;}#sk-container-id-1 div.sk-label:hover label.sk-toggleable__label {background-color: #d4ebff;}#sk-container-id-1 div.sk-serial::before {content: \"\";position: absolute;border-left: 1px solid gray;box-sizing: border-box;top: 0;bottom: 0;left: 50%;z-index: 0;}#sk-container-id-1 div.sk-serial {display: flex;flex-direction: column;align-items: center;background-color: white;padding-right: 0.2em;padding-left: 0.2em;position: relative;}#sk-container-id-1 div.sk-item {position: relative;z-index: 1;}#sk-container-id-1 div.sk-parallel {display: flex;align-items: stretch;justify-content: center;background-color: white;position: relative;}#sk-container-id-1 div.sk-item::before, #sk-container-id-1 div.sk-parallel-item::before {content: \"\";position: absolute;border-left: 1px solid gray;box-sizing: border-box;top: 0;bottom: 0;left: 50%;z-index: -1;}#sk-container-id-1 div.sk-parallel-item {display: flex;flex-direction: column;z-index: 1;position: relative;background-color: white;}#sk-container-id-1 div.sk-parallel-item:first-child::after {align-self: flex-end;width: 50%;}#sk-container-id-1 div.sk-parallel-item:last-child::after {align-self: flex-start;width: 50%;}#sk-container-id-1 div.sk-parallel-item:only-child::after {width: 0;}#sk-container-id-1 div.sk-dashed-wrapped {border: 1px dashed gray;margin: 0 0.4em 0.5em 0.4em;box-sizing: border-box;padding-bottom: 0.4em;background-color: white;}#sk-container-id-1 div.sk-label label {font-family: monospace;font-weight: bold;display: inline-block;line-height: 1.2em;}#sk-container-id-1 div.sk-label-container {text-align: center;}#sk-container-id-1 div.sk-container {/* jupyter's `normalize.less` sets `[hidden] { display: none; }` but bootstrap.min.css set `[hidden] { display: none !important; }` so we also need the `!important` here to be able to override the default hidden behavior on the sphinx rendered scikit-learn.org. See: https://github.com/scikit-learn/scikit-learn/issues/21755 */display: inline-block !important;position: relative;}#sk-container-id-1 div.sk-text-repr-fallback {display: none;}</style><div id=\"sk-container-id-1\" class=\"sk-top-container\"><div class=\"sk-text-repr-fallback\"><pre>GridSearchCV(cv=5, estimator=LogisticRegression(),\n",
       "             param_grid={&#x27;C&#x27;: [100, 10, 1.0, 0.1, 0.01],\n",
       "                         &#x27;solver&#x27;: [&#x27;newton-cg&#x27;, &#x27;lbfgs&#x27;, &#x27;liblinear&#x27;]})</pre><b>In a Jupyter environment, please rerun this cell to show the HTML representation or trust the notebook. <br />On GitHub, the HTML representation is unable to render, please try loading this page with nbviewer.org.</b></div><div class=\"sk-container\" hidden><div class=\"sk-item sk-dashed-wrapped\"><div class=\"sk-label-container\"><div class=\"sk-label sk-toggleable\"><input class=\"sk-toggleable__control sk-hidden--visually\" id=\"sk-estimator-id-1\" type=\"checkbox\" ><label for=\"sk-estimator-id-1\" class=\"sk-toggleable__label sk-toggleable__label-arrow\">GridSearchCV</label><div class=\"sk-toggleable__content\"><pre>GridSearchCV(cv=5, estimator=LogisticRegression(),\n",
       "             param_grid={&#x27;C&#x27;: [100, 10, 1.0, 0.1, 0.01],\n",
       "                         &#x27;solver&#x27;: [&#x27;newton-cg&#x27;, &#x27;lbfgs&#x27;, &#x27;liblinear&#x27;]})</pre></div></div></div><div class=\"sk-parallel\"><div class=\"sk-parallel-item\"><div class=\"sk-item\"><div class=\"sk-label-container\"><div class=\"sk-label sk-toggleable\"><input class=\"sk-toggleable__control sk-hidden--visually\" id=\"sk-estimator-id-2\" type=\"checkbox\" ><label for=\"sk-estimator-id-2\" class=\"sk-toggleable__label sk-toggleable__label-arrow\">estimator: LogisticRegression</label><div class=\"sk-toggleable__content\"><pre>LogisticRegression()</pre></div></div></div><div class=\"sk-serial\"><div class=\"sk-item\"><div class=\"sk-estimator sk-toggleable\"><input class=\"sk-toggleable__control sk-hidden--visually\" id=\"sk-estimator-id-3\" type=\"checkbox\" ><label for=\"sk-estimator-id-3\" class=\"sk-toggleable__label sk-toggleable__label-arrow\">LogisticRegression</label><div class=\"sk-toggleable__content\"><pre>LogisticRegression()</pre></div></div></div></div></div></div></div></div></div></div>"
      ],
      "text/plain": [
       "GridSearchCV(cv=5, estimator=LogisticRegression(),\n",
       "             param_grid={'C': [100, 10, 1.0, 0.1, 0.01],\n",
       "                         'solver': ['newton-cg', 'lbfgs', 'liblinear']})"
      ]
     },
     "execution_count": 32,
     "metadata": {},
     "output_type": "execute_result"
    }
   ],
   "source": [
    "# Define a dictionary of hyperparameters to test.\n",
    "# 'C' represents the inverse of regularization strength. Smaller values specify stronger regularization.\n",
    "# 'solver' is the algorithm used for optimization. Different solvers can perform differently depending on the data.\n",
    "param_grid = {\n",
    "    'C': [100, 10, 1.0, 0.1, 0.01],  # Regularization values\n",
    "    'solver': ['newton-cg', 'lbfgs', 'liblinear']  # Optimization algorithms\n",
    "}\n",
    "\n",
    "# Create a GridSearchCV object.\n",
    "# LogisticRegression() is the model to tune.\n",
    "# param_grid is the range of parameters to test.\n",
    "# cv=5 specifies 5-fold cross-validation.\n",
    "grid = GridSearchCV(LogisticRegression(), param_grid, cv=5)\n",
    "\n",
    "# Fit the GridSearchCV object to the training data.\n",
    "# This will test all combinations of parameters in param_grid\n",
    "# using 5-fold cross-validation and identify the best combination.\n",
    "grid.fit(X_train, y_train)\n"
   ]
  },
  {
   "cell_type": "code",
   "execution_count": 34,
   "id": "0f279b48",
   "metadata": {},
   "outputs": [
    {
     "name": "stdout",
     "output_type": "stream",
     "text": [
      "Confusion Matrix:\n",
      "[[11918  4044]\n",
      " [ 3399 12639]]\n",
      "\n",
      "Classification Report:\n",
      "              precision    recall  f1-score   support\n",
      "\n",
      "           0       0.78      0.75      0.76     15962\n",
      "           1       0.76      0.79      0.77     16038\n",
      "\n",
      "    accuracy                           0.77     32000\n",
      "   macro avg       0.77      0.77      0.77     32000\n",
      "weighted avg       0.77      0.77      0.77     32000\n",
      "\n",
      "Best Cross-validation score: 0.76\n",
      "Best parameters:  {'C': 1.0, 'solver': 'lbfgs'}\n",
      "Test accuracy: 76.74%\n"
     ]
    }
   ],
   "source": [
    "# Evaluation\n",
    "best_model = grid.best_estimator_\n",
    "y_pred = best_model.predict(X_test)\n",
    "print(\"Confusion Matrix:\")\n",
    "print(confusion_matrix(y_test, y_pred))\n",
    "print(\"\\nClassification Report:\")\n",
    "print(classification_report(y_test, y_pred))\n",
    "print(\"Best Cross-validation score: {:.2f}\".format(grid.best_score_))\n",
    "print(\"Best parameters: \", grid.best_params_)\n",
    "print(\"Test accuracy: {:.2f}%\".format(accuracy_score(y_test, y_pred) * 100))"
   ]
  },
  {
   "cell_type": "markdown",
   "id": "1bf9aef0",
   "metadata": {},
   "source": [
    "## Save the best model"
   ]
  },
  {
   "cell_type": "code",
   "execution_count": 36,
   "id": "5de04ab2",
   "metadata": {},
   "outputs": [],
   "source": [
    "import pickle"
   ]
  },
  {
   "cell_type": "code",
   "execution_count": 37,
   "id": "0c98a413",
   "metadata": {},
   "outputs": [],
   "source": [
    "# Save the model to a file\n",
    "with open('best_logistic_model.pkl', 'wb') as file:\n",
    "    pickle.dump(best_model, file)"
   ]
  },
  {
   "cell_type": "markdown",
   "id": "bd99ebd3",
   "metadata": {},
   "source": [
    "## Scrape data from Twitter"
   ]
  },
  {
   "cell_type": "code",
   "execution_count": 41,
   "id": "474b8b1b",
   "metadata": {},
   "outputs": [],
   "source": [
    "def load_api_key(file_path):\n",
    "    # This function reads the API key from a file.\n",
    "    try:\n",
    "        with open(file_path, 'r') as file:\n",
    "            return file.read().strip()\n",
    "    except FileNotFoundError:\n",
    "        # If the file is not found, an error message is printed.\n",
    "        print(\"API key file not found.\")\n",
    "        return None\n",
    "\n",
    "# Specify the path to your API key file\n",
    "api_key_file = 'api_key.txt'\n",
    "# Load the API key\n",
    "api_key = load_api_key(api_key_file)"
   ]
  },
  {
   "cell_type": "code",
   "execution_count": 121,
   "id": "2d637563",
   "metadata": {},
   "outputs": [],
   "source": [
    "# Check if the API key is available\n",
    "if not api_key:\n",
    "    print(\"API key is required to proceed.\")\n",
    "else:\n",
    "    # Initialize an empty list to store the collected tweets and a set for tweet IDs to avoid duplicates\n",
    "    twitter_data = []\n",
    "    tweet_ids = set() \n",
    "\n",
    "    # Set the number of tweets to fetch per request and the total number of tweets needed\n",
    "    num_tweets_per_request = 100\n",
    "   \n",
    "    # Prepare the payload for the API request with the API key, query term, number of tweets, and starting point\n",
    "    payload = {\n",
    "        'api_key': api_key,\n",
    "        'query': 'coursera',\n",
    "        'num': str(num_tweets_per_request),\n",
    "        'start': '0'  # 'start' is set to '0' and is not updated in subsequent iterations\n",
    "    }\n",
    "\n",
    "    # Make the API request\n",
    "    response = requests.get('https://api.scraperapi.com/structured/twitter/search', params=payload)\n",
    "\n",
    "    # Check if the response from the API is successful\n",
    "    if response.status_code == 200:\n",
    "        data = response.json()\n",
    "        all_tweets = data.get('organic_results', [])  # Extract tweets from the response\n",
    "\n",
    "        # Filter out tweets that have already been collected, based on their IDs\n",
    "        new_tweets = [tweet for tweet in all_tweets if tweet.get('id') not in tweet_ids]\n",
    "        twitter_data.extend(new_tweets)  # Add new tweets to the collection\n",
    "\n",
    "        # Update the set of seen tweet IDs to include the IDs of the newly fetched tweets\n",
    "        tweet_ids.update(tweet.get('id') for tweet in new_tweets)\n",
    "    else:\n",
    "        # If the request fails, print an error message with the status code\n",
    "        print(\"Failed to fetch data. Status code:\", response.status_code)\n"
   ]
  },
  {
   "cell_type": "code",
   "execution_count": 126,
   "id": "afdd92c1",
   "metadata": {},
   "outputs": [],
   "source": [
    "df2 = pd.DataFrame(twitter_data)\n",
    "# Save the DataFrame to a CSV file.\n",
    "df2.to_csv('tweets_scraped.csv', index=False)"
   ]
  },
  {
   "cell_type": "code",
   "execution_count": 123,
   "id": "ae0d6178",
   "metadata": {},
   "outputs": [
    {
     "data": {
      "text/plain": [
       "(100, 6)"
      ]
     },
     "execution_count": 123,
     "metadata": {},
     "output_type": "execute_result"
    }
   ],
   "source": [
    "# check the shape of scrapped data\n",
    "df2.shape"
   ]
  },
  {
   "cell_type": "code",
   "execution_count": 124,
   "id": "b97f42ce",
   "metadata": {},
   "outputs": [
    {
     "data": {
      "text/plain": [
       "0"
      ]
     },
     "execution_count": 124,
     "metadata": {},
     "output_type": "execute_result"
    }
   ],
   "source": [
    "# check whether the data was duplicated\n",
    "df2['snippet'].duplicated().sum()"
   ]
  },
  {
   "cell_type": "code",
   "execution_count": 128,
   "id": "0fbf4362",
   "metadata": {
    "scrolled": true
   },
   "outputs": [
    {
     "data": {
      "text/html": [
       "<div>\n",
       "<style scoped>\n",
       "    .dataframe tbody tr th:only-of-type {\n",
       "        vertical-align: middle;\n",
       "    }\n",
       "\n",
       "    .dataframe tbody tr th {\n",
       "        vertical-align: top;\n",
       "    }\n",
       "\n",
       "    .dataframe thead th {\n",
       "        text-align: right;\n",
       "    }\n",
       "</style>\n",
       "<table border=\"1\" class=\"dataframe\">\n",
       "  <thead>\n",
       "    <tr style=\"text-align: right;\">\n",
       "      <th></th>\n",
       "      <th>position</th>\n",
       "      <th>title</th>\n",
       "      <th>snippet</th>\n",
       "      <th>highlighs</th>\n",
       "      <th>link</th>\n",
       "      <th>displayed_link</th>\n",
       "    </tr>\n",
       "  </thead>\n",
       "  <tbody>\n",
       "    <tr>\n",
       "      <th>0</th>\n",
       "      <td>0</td>\n",
       "      <td>Coursera</td>\n",
       "      <td>LearnWithoutLimits on Coursera. Access online ...</td>\n",
       "      <td>[Coursera]</td>\n",
       "      <td>https://twitter.com/coursera</td>\n",
       "      <td>https://twitter.com › coursera</td>\n",
       "    </tr>\n",
       "    <tr>\n",
       "      <th>1</th>\n",
       "      <td>1</td>\n",
       "      <td>Coursera</td>\n",
       "      <td>For a limited time, we're offering the first m...</td>\n",
       "      <td>[Coursera]</td>\n",
       "      <td>https://mobile.twitter.com/coursera/status/172...</td>\n",
       "      <td>https://mobile.twitter.com › coursera › status</td>\n",
       "    </tr>\n",
       "    <tr>\n",
       "      <th>2</th>\n",
       "      <td>2</td>\n",
       "      <td>Coursera</td>\n",
       "      <td>Coursera · @coursera. Unlock new opportunities...</td>\n",
       "      <td>[Coursera, coursera]</td>\n",
       "      <td>https://mobile.twitter.com/coursera/status/170...</td>\n",
       "      <td>https://mobile.twitter.com › coursera › status</td>\n",
       "    </tr>\n",
       "    <tr>\n",
       "      <th>3</th>\n",
       "      <td>3</td>\n",
       "      <td>Coursera</td>\n",
       "      <td>Enrolling in a Coursera course or program can ...</td>\n",
       "      <td>[Coursera]</td>\n",
       "      <td>https://twitter.com/coursera/status/1692554542...</td>\n",
       "      <td>https://twitter.com › coursera › status</td>\n",
       "    </tr>\n",
       "    <tr>\n",
       "      <th>4</th>\n",
       "      <td>4</td>\n",
       "      <td>Coursera</td>\n",
       "      <td>Looking to take the next step in your career? ...</td>\n",
       "      <td>[Coursera]</td>\n",
       "      <td>https://twitter.com/coursera/status/1666806122...</td>\n",
       "      <td>https://twitter.com › coursera › status</td>\n",
       "    </tr>\n",
       "  </tbody>\n",
       "</table>\n",
       "</div>"
      ],
      "text/plain": [
       "   position     title                                            snippet  \\\n",
       "0         0  Coursera  LearnWithoutLimits on Coursera. Access online ...   \n",
       "1         1  Coursera  For a limited time, we're offering the first m...   \n",
       "2         2  Coursera  Coursera · @coursera. Unlock new opportunities...   \n",
       "3         3  Coursera  Enrolling in a Coursera course or program can ...   \n",
       "4         4  Coursera  Looking to take the next step in your career? ...   \n",
       "\n",
       "              highlighs                                               link  \\\n",
       "0            [Coursera]                       https://twitter.com/coursera   \n",
       "1            [Coursera]  https://mobile.twitter.com/coursera/status/172...   \n",
       "2  [Coursera, coursera]  https://mobile.twitter.com/coursera/status/170...   \n",
       "3            [Coursera]  https://twitter.com/coursera/status/1692554542...   \n",
       "4            [Coursera]  https://twitter.com/coursera/status/1666806122...   \n",
       "\n",
       "                                   displayed_link  \n",
       "0                  https://twitter.com › coursera  \n",
       "1  https://mobile.twitter.com › coursera › status  \n",
       "2  https://mobile.twitter.com › coursera › status  \n",
       "3         https://twitter.com › coursera › status  \n",
       "4         https://twitter.com › coursera › status  "
      ]
     },
     "execution_count": 128,
     "metadata": {},
     "output_type": "execute_result"
    }
   ],
   "source": [
    "df2.head()"
   ]
  },
  {
   "cell_type": "markdown",
   "id": "d115b31f",
   "metadata": {},
   "source": [
    "## Clean and process scraped data"
   ]
  },
  {
   "cell_type": "code",
   "execution_count": 129,
   "id": "5197845e",
   "metadata": {},
   "outputs": [
    {
     "data": {
      "text/plain": [
       "position          0\n",
       "title             0\n",
       "snippet           1\n",
       "highlighs         1\n",
       "link              0\n",
       "displayed_link    0\n",
       "dtype: int64"
      ]
     },
     "execution_count": 129,
     "metadata": {},
     "output_type": "execute_result"
    }
   ],
   "source": [
    "df2.isna().sum()"
   ]
  },
  {
   "cell_type": "code",
   "execution_count": 130,
   "id": "4c46c247",
   "metadata": {},
   "outputs": [],
   "source": [
    "# since the number of nan is not big, drop na\n",
    "df2.dropna(inplace=True)"
   ]
  },
  {
   "cell_type": "code",
   "execution_count": 131,
   "id": "7f4c0b0a",
   "metadata": {},
   "outputs": [
    {
     "data": {
      "text/plain": [
       "(99, 6)"
      ]
     },
     "execution_count": 131,
     "metadata": {},
     "output_type": "execute_result"
    }
   ],
   "source": [
    "# check the data shape after dropping\n",
    "df2.shape"
   ]
  },
  {
   "cell_type": "code",
   "execution_count": 132,
   "id": "b4505016",
   "metadata": {},
   "outputs": [],
   "source": [
    "# Apply the preprocessing pipeline to df2\n",
    "df2['processed_content'] = df2['snippet'].apply(preprocess_text)"
   ]
  },
  {
   "cell_type": "code",
   "execution_count": 133,
   "id": "da93cce1",
   "metadata": {},
   "outputs": [
    {
     "data": {
      "text/html": [
       "<div>\n",
       "<style scoped>\n",
       "    .dataframe tbody tr th:only-of-type {\n",
       "        vertical-align: middle;\n",
       "    }\n",
       "\n",
       "    .dataframe tbody tr th {\n",
       "        vertical-align: top;\n",
       "    }\n",
       "\n",
       "    .dataframe thead th {\n",
       "        text-align: right;\n",
       "    }\n",
       "</style>\n",
       "<table border=\"1\" class=\"dataframe\">\n",
       "  <thead>\n",
       "    <tr style=\"text-align: right;\">\n",
       "      <th></th>\n",
       "      <th>position</th>\n",
       "      <th>title</th>\n",
       "      <th>snippet</th>\n",
       "      <th>highlighs</th>\n",
       "      <th>link</th>\n",
       "      <th>displayed_link</th>\n",
       "      <th>processed_content</th>\n",
       "    </tr>\n",
       "  </thead>\n",
       "  <tbody>\n",
       "    <tr>\n",
       "      <th>0</th>\n",
       "      <td>0</td>\n",
       "      <td>Coursera</td>\n",
       "      <td>LearnWithoutLimits on Coursera. Access online ...</td>\n",
       "      <td>[Coursera]</td>\n",
       "      <td>https://twitter.com/coursera</td>\n",
       "      <td>https://twitter.com › coursera</td>\n",
       "      <td>learnwithoutlimit coursera access onlin cours ...</td>\n",
       "    </tr>\n",
       "    <tr>\n",
       "      <th>1</th>\n",
       "      <td>1</td>\n",
       "      <td>Coursera</td>\n",
       "      <td>For a limited time, we're offering the first m...</td>\n",
       "      <td>[Coursera]</td>\n",
       "      <td>https://mobile.twitter.com/coursera/status/172...</td>\n",
       "      <td>https://mobile.twitter.com › coursera › status</td>\n",
       "      <td>limit time offer first month coursera plu acce...</td>\n",
       "    </tr>\n",
       "    <tr>\n",
       "      <th>2</th>\n",
       "      <td>2</td>\n",
       "      <td>Coursera</td>\n",
       "      <td>Coursera · @coursera. Unlock new opportunities...</td>\n",
       "      <td>[Coursera, coursera]</td>\n",
       "      <td>https://mobile.twitter.com/coursera/status/170...</td>\n",
       "      <td>https://mobile.twitter.com › coursera › status</td>\n",
       "      <td>coursera coursera unlock new opportun learn co...</td>\n",
       "    </tr>\n",
       "    <tr>\n",
       "      <th>3</th>\n",
       "      <td>3</td>\n",
       "      <td>Coursera</td>\n",
       "      <td>Enrolling in a Coursera course or program can ...</td>\n",
       "      <td>[Coursera]</td>\n",
       "      <td>https://twitter.com/coursera/status/1692554542...</td>\n",
       "      <td>https://twitter.com › coursera › status</td>\n",
       "      <td>enrol coursera cours program help unemploy cit...</td>\n",
       "    </tr>\n",
       "    <tr>\n",
       "      <th>4</th>\n",
       "      <td>4</td>\n",
       "      <td>Coursera</td>\n",
       "      <td>Looking to take the next step in your career? ...</td>\n",
       "      <td>[Coursera]</td>\n",
       "      <td>https://twitter.com/coursera/status/1666806122...</td>\n",
       "      <td>https://twitter.com › coursera › status</td>\n",
       "      <td>look take next step career enjoy first month c...</td>\n",
       "    </tr>\n",
       "  </tbody>\n",
       "</table>\n",
       "</div>"
      ],
      "text/plain": [
       "   position     title                                            snippet  \\\n",
       "0         0  Coursera  LearnWithoutLimits on Coursera. Access online ...   \n",
       "1         1  Coursera  For a limited time, we're offering the first m...   \n",
       "2         2  Coursera  Coursera · @coursera. Unlock new opportunities...   \n",
       "3         3  Coursera  Enrolling in a Coursera course or program can ...   \n",
       "4         4  Coursera  Looking to take the next step in your career? ...   \n",
       "\n",
       "              highlighs                                               link  \\\n",
       "0            [Coursera]                       https://twitter.com/coursera   \n",
       "1            [Coursera]  https://mobile.twitter.com/coursera/status/172...   \n",
       "2  [Coursera, coursera]  https://mobile.twitter.com/coursera/status/170...   \n",
       "3            [Coursera]  https://twitter.com/coursera/status/1692554542...   \n",
       "4            [Coursera]  https://twitter.com/coursera/status/1666806122...   \n",
       "\n",
       "                                   displayed_link  \\\n",
       "0                  https://twitter.com › coursera   \n",
       "1  https://mobile.twitter.com › coursera › status   \n",
       "2  https://mobile.twitter.com › coursera › status   \n",
       "3         https://twitter.com › coursera › status   \n",
       "4         https://twitter.com › coursera › status   \n",
       "\n",
       "                                   processed_content  \n",
       "0  learnwithoutlimit coursera access onlin cours ...  \n",
       "1  limit time offer first month coursera plu acce...  \n",
       "2  coursera coursera unlock new opportun learn co...  \n",
       "3  enrol coursera cours program help unemploy cit...  \n",
       "4  look take next step career enjoy first month c...  "
      ]
     },
     "execution_count": 133,
     "metadata": {},
     "output_type": "execute_result"
    }
   ],
   "source": [
    "df2.head()"
   ]
  },
  {
   "cell_type": "markdown",
   "id": "11f1c3ab",
   "metadata": {},
   "source": [
    "## Predict sentiment for scraped data"
   ]
  },
  {
   "cell_type": "code",
   "execution_count": 134,
   "id": "3daee014",
   "metadata": {},
   "outputs": [],
   "source": [
    "# Load the model from the file\n",
    "with open('best_logistic_model.pkl', 'rb') as file:\n",
    "    loaded_model = pickle.load(file)"
   ]
  },
  {
   "cell_type": "code",
   "execution_count": 135,
   "id": "40d6eca2",
   "metadata": {},
   "outputs": [],
   "source": [
    "# Extract the text data for prediction\n",
    "X_new = df2['processed_content']"
   ]
  },
  {
   "cell_type": "code",
   "execution_count": 136,
   "id": "b03a26e6",
   "metadata": {},
   "outputs": [],
   "source": [
    "# Transform the new text data to the same feature space as the model was trained on\n",
    "X_new_vect = vectorizer.transform(X_new) "
   ]
  },
  {
   "cell_type": "code",
   "execution_count": 137,
   "id": "db6bb72e",
   "metadata": {},
   "outputs": [],
   "source": [
    "# Use the loaded model to make predictions on the transformed data\n",
    "prediction_new = loaded_model.predict(X_new_vect)"
   ]
  },
  {
   "cell_type": "code",
   "execution_count": 138,
   "id": "25da16e9",
   "metadata": {},
   "outputs": [],
   "source": [
    "# Add target to original dataframe\n",
    "df2['target'] = prediction_new"
   ]
  },
  {
   "cell_type": "code",
   "execution_count": 139,
   "id": "bce0175e",
   "metadata": {},
   "outputs": [
    {
     "data": {
      "text/html": [
       "<div>\n",
       "<style scoped>\n",
       "    .dataframe tbody tr th:only-of-type {\n",
       "        vertical-align: middle;\n",
       "    }\n",
       "\n",
       "    .dataframe tbody tr th {\n",
       "        vertical-align: top;\n",
       "    }\n",
       "\n",
       "    .dataframe thead th {\n",
       "        text-align: right;\n",
       "    }\n",
       "</style>\n",
       "<table border=\"1\" class=\"dataframe\">\n",
       "  <thead>\n",
       "    <tr style=\"text-align: right;\">\n",
       "      <th></th>\n",
       "      <th>position</th>\n",
       "      <th>title</th>\n",
       "      <th>snippet</th>\n",
       "      <th>highlighs</th>\n",
       "      <th>link</th>\n",
       "      <th>displayed_link</th>\n",
       "      <th>processed_content</th>\n",
       "      <th>target</th>\n",
       "    </tr>\n",
       "  </thead>\n",
       "  <tbody>\n",
       "    <tr>\n",
       "      <th>0</th>\n",
       "      <td>0</td>\n",
       "      <td>Coursera</td>\n",
       "      <td>LearnWithoutLimits on Coursera. Access online ...</td>\n",
       "      <td>[Coursera]</td>\n",
       "      <td>https://twitter.com/coursera</td>\n",
       "      <td>https://twitter.com › coursera</td>\n",
       "      <td>learnwithoutlimit coursera access onlin cours ...</td>\n",
       "      <td>1</td>\n",
       "    </tr>\n",
       "    <tr>\n",
       "      <th>1</th>\n",
       "      <td>1</td>\n",
       "      <td>Coursera</td>\n",
       "      <td>For a limited time, we're offering the first m...</td>\n",
       "      <td>[Coursera]</td>\n",
       "      <td>https://mobile.twitter.com/coursera/status/172...</td>\n",
       "      <td>https://mobile.twitter.com › coursera › status</td>\n",
       "      <td>limit time offer first month coursera plu acce...</td>\n",
       "      <td>1</td>\n",
       "    </tr>\n",
       "    <tr>\n",
       "      <th>2</th>\n",
       "      <td>2</td>\n",
       "      <td>Coursera</td>\n",
       "      <td>Coursera · @coursera. Unlock new opportunities...</td>\n",
       "      <td>[Coursera, coursera]</td>\n",
       "      <td>https://mobile.twitter.com/coursera/status/170...</td>\n",
       "      <td>https://mobile.twitter.com › coursera › status</td>\n",
       "      <td>coursera coursera unlock new opportun learn co...</td>\n",
       "      <td>1</td>\n",
       "    </tr>\n",
       "    <tr>\n",
       "      <th>3</th>\n",
       "      <td>3</td>\n",
       "      <td>Coursera</td>\n",
       "      <td>Enrolling in a Coursera course or program can ...</td>\n",
       "      <td>[Coursera]</td>\n",
       "      <td>https://twitter.com/coursera/status/1692554542...</td>\n",
       "      <td>https://twitter.com › coursera › status</td>\n",
       "      <td>enrol coursera cours program help unemploy cit...</td>\n",
       "      <td>1</td>\n",
       "    </tr>\n",
       "    <tr>\n",
       "      <th>4</th>\n",
       "      <td>4</td>\n",
       "      <td>Coursera</td>\n",
       "      <td>Looking to take the next step in your career? ...</td>\n",
       "      <td>[Coursera]</td>\n",
       "      <td>https://twitter.com/coursera/status/1666806122...</td>\n",
       "      <td>https://twitter.com › coursera › status</td>\n",
       "      <td>look take next step career enjoy first month c...</td>\n",
       "      <td>1</td>\n",
       "    </tr>\n",
       "  </tbody>\n",
       "</table>\n",
       "</div>"
      ],
      "text/plain": [
       "   position     title                                            snippet  \\\n",
       "0         0  Coursera  LearnWithoutLimits on Coursera. Access online ...   \n",
       "1         1  Coursera  For a limited time, we're offering the first m...   \n",
       "2         2  Coursera  Coursera · @coursera. Unlock new opportunities...   \n",
       "3         3  Coursera  Enrolling in a Coursera course or program can ...   \n",
       "4         4  Coursera  Looking to take the next step in your career? ...   \n",
       "\n",
       "              highlighs                                               link  \\\n",
       "0            [Coursera]                       https://twitter.com/coursera   \n",
       "1            [Coursera]  https://mobile.twitter.com/coursera/status/172...   \n",
       "2  [Coursera, coursera]  https://mobile.twitter.com/coursera/status/170...   \n",
       "3            [Coursera]  https://twitter.com/coursera/status/1692554542...   \n",
       "4            [Coursera]  https://twitter.com/coursera/status/1666806122...   \n",
       "\n",
       "                                   displayed_link  \\\n",
       "0                  https://twitter.com › coursera   \n",
       "1  https://mobile.twitter.com › coursera › status   \n",
       "2  https://mobile.twitter.com › coursera › status   \n",
       "3         https://twitter.com › coursera › status   \n",
       "4         https://twitter.com › coursera › status   \n",
       "\n",
       "                                   processed_content  target  \n",
       "0  learnwithoutlimit coursera access onlin cours ...       1  \n",
       "1  limit time offer first month coursera plu acce...       1  \n",
       "2  coursera coursera unlock new opportun learn co...       1  \n",
       "3  enrol coursera cours program help unemploy cit...       1  \n",
       "4  look take next step career enjoy first month c...       1  "
      ]
     },
     "execution_count": 139,
     "metadata": {},
     "output_type": "execute_result"
    }
   ],
   "source": [
    "df2.head()"
   ]
  },
  {
   "cell_type": "code",
   "execution_count": 141,
   "id": "37b6cfc6",
   "metadata": {
    "scrolled": true
   },
   "outputs": [
    {
     "data": {
      "text/plain": [
       "1    86\n",
       "0    13\n",
       "Name: target, dtype: int64"
      ]
     },
     "execution_count": 141,
     "metadata": {},
     "output_type": "execute_result"
    }
   ],
   "source": [
    "df2['target'].value_counts()"
   ]
  },
  {
   "cell_type": "code",
   "execution_count": 140,
   "id": "7b7449c9",
   "metadata": {},
   "outputs": [],
   "source": [
    "# Save the new DataFrame to a CSV file.\n",
    "df2.to_csv('tweets_scraped_labeled.csv', index=False)"
   ]
  },
  {
   "cell_type": "code",
   "execution_count": null,
   "id": "6301942c",
   "metadata": {},
   "outputs": [],
   "source": []
  }
 ],
 "metadata": {
  "kernelspec": {
   "display_name": "Python 3 (ipykernel)",
   "language": "python",
   "name": "python3"
  },
  "language_info": {
   "codemirror_mode": {
    "name": "ipython",
    "version": 3
   },
   "file_extension": ".py",
   "mimetype": "text/x-python",
   "name": "python",
   "nbconvert_exporter": "python",
   "pygments_lexer": "ipython3",
   "version": "3.11.4"
  }
 },
 "nbformat": 4,
 "nbformat_minor": 5
}
